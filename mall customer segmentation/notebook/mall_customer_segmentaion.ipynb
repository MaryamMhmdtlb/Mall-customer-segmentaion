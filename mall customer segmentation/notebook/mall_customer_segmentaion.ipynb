{
 "cells": [
  {
   "cell_type": "markdown",
   "id": "b4bd924d",
   "metadata": {},
   "source": [
    "<h1 align=center style=\"line-height:200%;color:#0099cc\">\n",
    "<font color=\"#0099cc\">\n",
    "Mall Customer Segmentation\n",
    "</font>\n",
    "</h1>"
   ]
  },
  {
   "cell_type": "code",
   "execution_count": 17,
   "id": "9b755166",
   "metadata": {},
   "outputs": [
    {
     "ename": "ModuleNotFoundError",
     "evalue": "No module named 'kmodes'",
     "output_type": "error",
     "traceback": [
      "\u001b[1;31m---------------------------------------------------------------------------\u001b[0m",
      "\u001b[1;31mModuleNotFoundError\u001b[0m                       Traceback (most recent call last)",
      "Cell \u001b[1;32mIn[17], line 6\u001b[0m\n\u001b[0;32m      4\u001b[0m \u001b[38;5;28;01mimport\u001b[39;00m \u001b[38;5;21;01mseaborn\u001b[39;00m \u001b[38;5;28;01mas\u001b[39;00m \u001b[38;5;21;01msns\u001b[39;00m\n\u001b[0;32m      5\u001b[0m \u001b[38;5;28;01mfrom\u001b[39;00m \u001b[38;5;21;01msklearn\u001b[39;00m\u001b[38;5;21;01m.\u001b[39;00m\u001b[38;5;21;01mpreprocessing\u001b[39;00m \u001b[38;5;28;01mimport\u001b[39;00m StandardScaler\n\u001b[1;32m----> 6\u001b[0m \u001b[38;5;28;01mfrom\u001b[39;00m \u001b[38;5;21;01mkmodes\u001b[39;00m\u001b[38;5;21;01m.\u001b[39;00m\u001b[38;5;21;01mkprototypes\u001b[39;00m \u001b[38;5;28;01mimport\u001b[39;00m KPrototypes\n\u001b[0;32m      7\u001b[0m \u001b[38;5;28;01mfrom\u001b[39;00m \u001b[38;5;21;01msklearn\u001b[39;00m\u001b[38;5;21;01m.\u001b[39;00m\u001b[38;5;21;01mcluster\u001b[39;00m \u001b[38;5;28;01mimport\u001b[39;00m KMeans\n\u001b[0;32m      8\u001b[0m \u001b[38;5;28;01mfrom\u001b[39;00m \u001b[38;5;21;01msklearn\u001b[39;00m\u001b[38;5;21;01m.\u001b[39;00m\u001b[38;5;21;01mmetrics\u001b[39;00m \u001b[38;5;28;01mimport\u001b[39;00m silhouette_score\n",
      "\u001b[1;31mModuleNotFoundError\u001b[0m: No module named 'kmodes'"
     ]
    }
   ],
   "source": [
    "import numpy as np\n",
    "import pandas as pd\n",
    "import matplotlib.pyplot as plt\n",
    "import seaborn as sns\n",
    "from sklearn.preprocessing import StandardScaler\n",
    "from kmodes.kprototypes import KPrototypes\n",
    "from sklearn.cluster import KMeans\n",
    "from sklearn.metrics import silhouette_score"
   ]
  },
  {
   "cell_type": "markdown",
   "id": "d801da4c",
   "metadata": {},
   "source": [
   t;line-height:200%;font-family:vazir;font-size:medium\">\n",
    "<font face=\"vazirmatn\" size=3>\n",
<h2 style="line-height:200%;color:#0099cc">
<font color="#0099cc">
Dataset Introduction
</font>
</h2>

<p style="line-height:200%;font-size:medium">
<font  size="3">
The training dataset contains 200 rows and 5 columns.
</font>
</p>

<div dir="rtl" style="direction: rtl;text-align: right;line-height:200%;font-family:vazir;font-size:medium">
<font face="vazirmatn" size="3">

| Column | Description |
|--------|-------------|
| CustomerID | Customer identifier |
| Gender | Customer's gender |
| Age | Customer's age |
| Annual Income (k$) | Customer's annual income in thousand dollars |
| Spending Score (1-100) | Customer's spending tendency. Higher numbers indicate a stronger willingness to spend money! |

</font>
</div>
   ]
  },
  {
   "cell_type": "code",
   "execution_count": 2,
   "id": "d0a7a3e7",
   "metadata": {},
   "outputs": [
    {
     "data": {
      "application/vnd.microsoft.datawrangler.viewer.v0+json": {
       "columns": [
        {
         "name": "index",
         "rawType": "int64",
         "type": "integer"
        },
        {
         "name": "CustomerID",
         "rawType": "int64",
         "type": "integer"
        },
        {
         "name": "Gender",
         "rawType": "object",
         "type": "string"
        },
        {
         "name": "Age",
         "rawType": "int64",
         "type": "integer"
        },
        {
         "name": "Annual Income (k$)",
         "rawType": "int64",
         "type": "integer"
        },
        {
         "name": "Spending Score (1-100)",
         "rawType": "int64",
         "type": "integer"
        }
       ],
       "ref": "25347b74-d9c4-4023-8fee-9435f5838ec1",
       "rows": [
        [
         "0",
         "1",
         "Male",
         "19",
         "15",
         "39"
        ],
        [
         "1",
         "2",
         "Male",
         "21",
         "15",
         "81"
        ],
        [
         "2",
         "3",
         "Female",
         "20",
         "16",
         "6"
        ],
        [
         "3",
         "4",
         "Female",
         "23",
         "16",
         "77"
        ],
        [
         "4",
         "5",
         "Female",
         "31",
         "17",
         "40"
        ],
        [
         "5",
         "6",
         "Female",
         "22",
         "17",
         "76"
        ],
        [
         "6",
         "7",
         "Female",
         "35",
         "18",
         "6"
        ],
        [
         "7",
         "8",
         "Female",
         "23",
         "18",
         "94"
        ],
        [
         "8",
         "9",
         "Male",
         "64",
         "19",
         "3"
        ],
        [
         "9",
         "10",
         "Female",
         "30",
         "19",
         "72"
        ],
        [
         "10",
         "11",
         "Male",
         "67",
         "19",
         "14"
        ],
        [
         "11",
         "12",
         "Female",
         "35",
         "19",
         "99"
        ],
        [
         "12",
         "13",
         "Female",
         "58",
         "20",
         "15"
        ],
        [
         "13",
         "14",
         "Female",
         "24",
         "20",
         "77"
        ],
        [
         "14",
         "15",
         "Male",
         "37",
         "20",
         "13"
        ],
        [
         "15",
         "16",
         "Male",
         "22",
         "20",
         "79"
        ],
        [
         "16",
         "17",
         "Female",
         "35",
         "21",
         "35"
        ],
        [
         "17",
         "18",
         "Male",
         "20",
         "21",
         "66"
        ],
        [
         "18",
         "19",
         "Male",
         "52",
         "23",
         "29"
        ],
        [
         "19",
         "20",
         "Female",
         "35",
         "23",
         "98"
        ],
        [
         "20",
         "21",
         "Male",
         "35",
         "24",
         "35"
        ],
        [
         "21",
         "22",
         "Male",
         "25",
         "24",
         "73"
        ],
        [
         "22",
         "23",
         "Female",
         "46",
         "25",
         "5"
        ],
        [
         "23",
         "24",
         "Male",
         "31",
         "25",
         "73"
        ],
        [
         "24",
         "25",
         "Female",
         "54",
         "28",
         "14"
        ],
        [
         "25",
         "26",
         "Male",
         "29",
         "28",
         "82"
        ],
        [
         "26",
         "27",
         "Female",
         "45",
         "28",
         "32"
        ],
        [
         "27",
         "28",
         "Male",
         "35",
         "28",
         "61"
        ],
        [
         "28",
         "29",
         "Female",
         "40",
         "29",
         "31"
        ],
        [
         "29",
         "30",
         "Female",
         "23",
         "29",
         "87"
        ],
        [
         "30",
         "31",
         "Male",
         "60",
         "30",
         "4"
        ],
        [
         "31",
         "32",
         "Female",
         "21",
         "30",
         "73"
        ],
        [
         "32",
         "33",
         "Male",
         "53",
         "33",
         "4"
        ],
        [
         "33",
         "34",
         "Male",
         "18",
         "33",
         "92"
        ],
        [
         "34",
         "35",
         "Female",
         "49",
         "33",
         "14"
        ],
        [
         "35",
         "36",
         "Female",
         "21",
         "33",
         "81"
        ],
        [
         "36",
         "37",
         "Female",
         "42",
         "34",
         "17"
        ],
        [
         "37",
         "38",
         "Female",
         "30",
         "34",
         "73"
        ],
        [
         "38",
         "39",
         "Female",
         "36",
         "37",
         "26"
        ],
        [
         "39",
         "40",
         "Female",
         "20",
         "37",
         "75"
        ],
        [
         "40",
         "41",
         "Female",
         "65",
         "38",
         "35"
        ],
        [
         "41",
         "42",
         "Male",
         "24",
         "38",
         "92"
        ],
        [
         "42",
         "43",
         "Male",
         "48",
         "39",
         "36"
        ],
        [
         "43",
         "44",
         "Female",
         "31",
         "39",
         "61"
        ],
        [
         "44",
         "45",
         "Female",
         "49",
         "39",
         "28"
        ],
        [
         "45",
         "46",
         "Female",
         "24",
         "39",
         "65"
        ],
        [
         "46",
         "47",
         "Female",
         "50",
         "40",
         "55"
        ],
        [
         "47",
         "48",
         "Female",
         "27",
         "40",
         "47"
        ],
        [
         "48",
         "49",
         "Female",
         "29",
         "40",
         "42"
        ],
        [
         "49",
         "50",
         "Female",
         "31",
         "40",
         "42"
        ]
       ],
       "shape": {
        "columns": 5,
        "rows": 200
       }
      },
      "text/html": [
       "<div>\n",
       "<style scoped>\n",
       "    .dataframe tbody tr th:only-of-type {\n",
       "        vertical-align: middle;\n",
       "    }\n",
       "\n",
       "    .dataframe tbody tr th {\n",
       "        vertical-align: top;\n",
       "    }\n",
       "\n",
       "    .dataframe thead th {\n",
       "        text-align: right;\n",
       "    }\n",
       "</style>\n",
       "<table border=\"1\" class=\"dataframe\">\n",
       "  <thead>\n",
       "    <tr style=\"text-align: right;\">\n",
       "      <th></th>\n",
       "      <th>CustomerID</th>\n",
       "      <th>Gender</th>\n",
       "      <th>Age</th>\n",
       "      <th>Annual Income (k$)</th>\n",
       "      <th>Spending Score (1-100)</th>\n",
       "    </tr>\n",
       "  </thead>\n",
       "  <tbody>\n",
       "    <tr>\n",
       "      <th>0</th>\n",
       "      <td>1</td>\n",
       "      <td>Male</td>\n",
       "      <td>19</td>\n",
       "      <td>15</td>\n",
       "      <td>39</td>\n",
       "    </tr>\n",
       "    <tr>\n",
       "      <th>1</th>\n",
       "      <td>2</td>\n",
       "      <td>Male</td>\n",
       "      <td>21</td>\n",
       "      <td>15</td>\n",
       "      <td>81</td>\n",
       "    </tr>\n",
       "    <tr>\n",
       "      <th>2</th>\n",
       "      <td>3</td>\n",
       "      <td>Female</td>\n",
       "      <td>20</td>\n",
       "      <td>16</td>\n",
       "      <td>6</td>\n",
       "    </tr>\n",
       "    <tr>\n",
       "      <th>3</th>\n",
       "      <td>4</td>\n",
       "      <td>Female</td>\n",
       "      <td>23</td>\n",
       "      <td>16</td>\n",
       "      <td>77</td>\n",
       "    </tr>\n",
       "    <tr>\n",
       "      <th>4</th>\n",
       "      <td>5</td>\n",
       "      <td>Female</td>\n",
       "      <td>31</td>\n",
       "      <td>17</td>\n",
       "      <td>40</td>\n",
       "    </tr>\n",
       "    <tr>\n",
       "      <th>...</th>\n",
       "      <td>...</td>\n",
       "      <td>...</td>\n",
       "      <td>...</td>\n",
       "      <td>...</td>\n",
       "      <td>...</td>\n",
       "    </tr>\n",
       "    <tr>\n",
       "      <th>195</th>\n",
       "      <td>196</td>\n",
       "      <td>Female</td>\n",
       "      <td>35</td>\n",
       "      <td>120</td>\n",
       "      <td>79</td>\n",
       "    </tr>\n",
       "    <tr>\n",
       "      <th>196</th>\n",
       "      <td>197</td>\n",
       "      <td>Female</td>\n",
       "      <td>45</td>\n",
       "      <td>126</td>\n",
       "      <td>28</td>\n",
       "    </tr>\n",
       "    <tr>\n",
       "      <th>197</th>\n",
       "      <td>198</td>\n",
       "      <td>Male</td>\n",
       "      <td>32</td>\n",
       "      <td>126</td>\n",
       "      <td>74</td>\n",
       "    </tr>\n",
       "    <tr>\n",
       "      <th>198</th>\n",
       "      <td>199</td>\n",
       "      <td>Male</td>\n",
       "      <td>32</td>\n",
       "      <td>137</td>\n",
       "      <td>18</td>\n",
       "    </tr>\n",
       "    <tr>\n",
       "      <th>199</th>\n",
       "      <td>200</td>\n",
       "      <td>Male</td>\n",
       "      <td>30</td>\n",
       "      <td>137</td>\n",
       "      <td>83</td>\n",
       "    </tr>\n",
       "  </tbody>\n",
       "</table>\n",
       "<p>200 rows × 5 columns</p>\n",
       "</div>"
      ],
      "text/plain": [
       "     CustomerID  Gender  Age  Annual Income (k$)  Spending Score (1-100)\n",
       "0             1    Male   19                  15                      39\n",
       "1             2    Male   21                  15                      81\n",
       "2             3  Female   20                  16                       6\n",
       "3             4  Female   23                  16                      77\n",
       "4             5  Female   31                  17                      40\n",
       "..          ...     ...  ...                 ...                     ...\n",
       "195         196  Female   35                 120                      79\n",
       "196         197  Female   45                 126                      28\n",
       "197         198    Male   32                 126                      74\n",
       "198         199    Male   32                 137                      18\n",
       "199         200    Male   30                 137                      83\n",
       "\n",
       "[200 rows x 5 columns]"
      ]
     },
     "execution_count": 2,
     "metadata": {},
     "output_type": "execute_result"
    }
   ],
   "source": [
    "df = pd.read_csv('../data/mall_customers.csv')\n",
    "df"
   ]
  },
  {
   "cell_type": "code",
   "execution_count": 3,
   "id": "3c568afa",
   "metadata": {},
   "outputs": [
    {
     "data": {
      "application/vnd.microsoft.datawrangler.viewer.v0+json": {
       "columns": [
        {
         "name": "index",
         "rawType": "object",
         "type": "string"
        },
        {
         "name": "CustomerID",
         "rawType": "float64",
         "type": "float"
        },
        {
         "name": "Age",
         "rawType": "float64",
         "type": "float"
        },
        {
         "name": "Annual Income (k$)",
         "rawType": "float64",
         "type": "float"
        },
        {
         "name": "Spending Score (1-100)",
         "rawType": "float64",
         "type": "float"
        }
       ],
       "ref": "1f195903-7485-4c49-8949-425e37409406",
       "rows": [
        [
         "count",
         "200.0",
         "200.0",
         "200.0",
         "200.0"
        ],
        [
         "mean",
         "100.5",
         "38.85",
         "60.56",
         "50.2"
        ],
        [
         "std",
         "57.879184513951124",
         "13.96900733155888",
         "26.264721165271244",
         "25.823521668370173"
        ],
        [
         "min",
         "1.0",
         "18.0",
         "15.0",
         "1.0"
        ],
        [
         "25%",
         "50.75",
         "28.75",
         "41.5",
         "34.75"
        ],
        [
         "50%",
         "100.5",
         "36.0",
         "61.5",
         "50.0"
        ],
        [
         "75%",
         "150.25",
         "49.0",
         "78.0",
         "73.0"
        ],
        [
         "max",
         "200.0",
         "70.0",
         "137.0",
         "99.0"
        ]
       ],
       "shape": {
        "columns": 4,
        "rows": 8
       }
      },
      "text/html": [
       "<div>\n",
       "<style scoped>\n",
       "    .dataframe tbody tr th:only-of-type {\n",
       "        vertical-align: middle;\n",
       "    }\n",
       "\n",
       "    .dataframe tbody tr th {\n",
       "        vertical-align: top;\n",
       "    }\n",
       "\n",
       "    .dataframe thead th {\n",
       "        text-align: right;\n",
       "    }\n",
       "</style>\n",
       "<table border=\"1\" class=\"dataframe\">\n",
       "  <thead>\n",
       "    <tr style=\"text-align: right;\">\n",
       "      <th></th>\n",
       "      <th>CustomerID</th>\n",
       "      <th>Age</th>\n",
       "      <th>Annual Income (k$)</th>\n",
       "      <th>Spending Score (1-100)</th>\n",
       "    </tr>\n",
       "  </thead>\n",
       "  <tbody>\n",
       "    <tr>\n",
       "      <th>count</th>\n",
       "      <td>200.000000</td>\n",
       "      <td>200.000000</td>\n",
       "      <td>200.000000</td>\n",
       "      <td>200.000000</td>\n",
       "    </tr>\n",
       "    <tr>\n",
       "      <th>mean</th>\n",
       "      <td>100.500000</td>\n",
       "      <td>38.850000</td>\n",
       "      <td>60.560000</td>\n",
       "      <td>50.200000</td>\n",
       "    </tr>\n",
       "    <tr>\n",
       "      <th>std</th>\n",
       "      <td>57.879185</td>\n",
       "      <td>13.969007</td>\n",
       "      <td>26.264721</td>\n",
       "      <td>25.823522</td>\n",
       "    </tr>\n",
       "    <tr>\n",
       "      <th>min</th>\n",
       "      <td>1.000000</td>\n",
       "      <td>18.000000</td>\n",
       "      <td>15.000000</td>\n",
       "      <td>1.000000</td>\n",
       "    </tr>\n",
       "    <tr>\n",
       "      <th>25%</th>\n",
       "      <td>50.750000</td>\n",
       "      <td>28.750000</td>\n",
       "      <td>41.500000</td>\n",
       "      <td>34.750000</td>\n",
       "    </tr>\n",
       "    <tr>\n",
       "      <th>50%</th>\n",
       "      <td>100.500000</td>\n",
       "      <td>36.000000</td>\n",
       "      <td>61.500000</td>\n",
       "      <td>50.000000</td>\n",
       "    </tr>\n",
       "    <tr>\n",
       "      <th>75%</th>\n",
       "      <td>150.250000</td>\n",
       "      <td>49.000000</td>\n",
       "      <td>78.000000</td>\n",
       "      <td>73.000000</td>\n",
       "    </tr>\n",
       "    <tr>\n",
       "      <th>max</th>\n",
       "      <td>200.000000</td>\n",
       "      <td>70.000000</td>\n",
       "      <td>137.000000</td>\n",
       "      <td>99.000000</td>\n",
       "    </tr>\n",
       "  </tbody>\n",
       "</table>\n",
       "</div>"
      ],
      "text/plain": [
       "       CustomerID         Age  Annual Income (k$)  Spending Score (1-100)\n",
       "count  200.000000  200.000000          200.000000              200.000000\n",
       "mean   100.500000   38.850000           60.560000               50.200000\n",
       "std     57.879185   13.969007           26.264721               25.823522\n",
       "min      1.000000   18.000000           15.000000                1.000000\n",
       "25%     50.750000   28.750000           41.500000               34.750000\n",
       "50%    100.500000   36.000000           61.500000               50.000000\n",
       "75%    150.250000   49.000000           78.000000               73.000000\n",
       "max    200.000000   70.000000          137.000000               99.000000"
      ]
     },
     "execution_count": 3,
     "metadata": {},
     "output_type": "execute_result"
    }
   ],
   "source": [
    "df.describe()"
   ]
  },
  {
   "cell_type": "code",
   "execution_count": 4,
   "id": "8591e301",
   "metadata": {},
   "outputs": [
    {
     "data": {
      "application/vnd.microsoft.datawrangler.viewer.v0+json": {
       "columns": [
        {
         "name": "index",
         "rawType": "object",
         "type": "string"
        },
        {
         "name": "0",
         "rawType": "int64",
         "type": "integer"
        }
       ],
       "ref": "7a586e91-f1e4-45a6-b04a-a1e668794baa",
       "rows": [
        [
         "CustomerID",
         "0"
        ],
        [
         "Gender",
         "0"
        ],
        [
         "Age",
         "0"
        ],
        [
         "Annual Income (k$)",
         "0"
        ],
        [
         "Spending Score (1-100)",
         "0"
        ]
       ],
       "shape": {
        "columns": 1,
        "rows": 5
       }
      },
      "text/plain": [
       "CustomerID                0\n",
       "Gender                    0\n",
       "Age                       0\n",
       "Annual Income (k$)        0\n",
       "Spending Score (1-100)    0\n",
       "dtype: int64"
      ]
     },
     "execution_count": 4,
     "metadata": {},
     "output_type": "execute_result"
    }
   ],
   "source": [
    "df.isna().sum()"
   ]
  },
  {
   "cell_type": "code",
   "execution_count": 5,
   "id": "770da291",
   "metadata": {},
   "outputs": [
    {
     "data": {
      "application/vnd.microsoft.datawrangler.viewer.v0+json": {
       "columns": [
        {
         "name": "index",
         "rawType": "object",
         "type": "string"
        },
        {
         "name": "Age",
         "rawType": "float64",
         "type": "float"
        },
        {
         "name": "Annual Income (k$)",
         "rawType": "float64",
         "type": "float"
        },
        {
         "name": "Spending Score (1-100)",
         "rawType": "float64",
         "type": "float"
        }
       ],
       "ref": "684473d0-ebf0-4902-92bd-f4af034de573",
       "rows": [
        [
         "Age",
         "1.0",
         "-0.01239804273606026",
         "-0.32722684603909025"
        ],
        [
         "Annual Income (k$)",
         "-0.01239804273606026",
         "1.0",
         "0.009902848094037497"
        ],
        [
         "Spending Score (1-100)",
         "-0.32722684603909025",
         "0.009902848094037497",
         "1.0"
        ]
       ],
       "shape": {
        "columns": 3,
        "rows": 3
       }
      },
      "text/html": [
       "<div>\n",
       "<style scoped>\n",
       "    .dataframe tbody tr th:only-of-type {\n",
       "        vertical-align: middle;\n",
       "    }\n",
       "\n",
       "    .dataframe tbody tr th {\n",
       "        vertical-align: top;\n",
       "    }\n",
       "\n",
       "    .dataframe thead th {\n",
       "        text-align: right;\n",
       "    }\n",
       "</style>\n",
       "<table border=\"1\" class=\"dataframe\">\n",
       "  <thead>\n",
       "    <tr style=\"text-align: right;\">\n",
       "      <th></th>\n",
       "      <th>Age</th>\n",
       "      <th>Annual Income (k$)</th>\n",
       "      <th>Spending Score (1-100)</th>\n",
       "    </tr>\n",
       "  </thead>\n",
       "  <tbody>\n",
       "    <tr>\n",
       "      <th>Age</th>\n",
       "      <td>1.000000</td>\n",
       "      <td>-0.012398</td>\n",
       "      <td>-0.327227</td>\n",
       "    </tr>\n",
       "    <tr>\n",
       "      <th>Annual Income (k$)</th>\n",
       "      <td>-0.012398</td>\n",
       "      <td>1.000000</td>\n",
       "      <td>0.009903</td>\n",
       "    </tr>\n",
       "    <tr>\n",
       "      <th>Spending Score (1-100)</th>\n",
       "      <td>-0.327227</td>\n",
       "      <td>0.009903</td>\n",
       "      <td>1.000000</td>\n",
       "    </tr>\n",
       "  </tbody>\n",
       "</table>\n",
       "</div>"
      ],
      "text/plain": [
       "                             Age  Annual Income (k$)  Spending Score (1-100)\n",
       "Age                     1.000000           -0.012398               -0.327227\n",
       "Annual Income (k$)     -0.012398            1.000000                0.009903\n",
       "Spending Score (1-100) -0.327227            0.009903                1.000000"
      ]
     },
     "execution_count": 5,
     "metadata": {},
     "output_type": "execute_result"
    }
   ],
   "source": [
    "df.iloc[:,[2,3,4]].corr()"
   ]
  },
  {
   "cell_type": "code",
   "execution_count": 9,
   "id": "6639c848",
   "metadata": {},
   "outputs": [
    {
     "data": {
      "image/png": "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",
      "text/plain": [
       "<Figure size 500x500 with 1 Axes>"
      ]
     },
     "metadata": {},
     "output_type": "display_data"
    },
    {
     "data": {
      "image/png": "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",
      "text/plain": [
       "<Figure size 500x500 with 1 Axes>"
      ]
     },
     "metadata": {},
     "output_type": "display_data"
    },
    {
     "data": {
      "image/png": "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",
      "text/plain": [
       "<Figure size 500x500 with 1 Axes>"
      ]
     },
     "metadata": {},
     "output_type": "display_data"
    },
    {
     "data": {
      "image/png": "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",
      "text/plain": [
       "<Figure size 500x500 with 1 Axes>"
      ]
     },
     "metadata": {},
     "output_type": "display_data"
    }
   ],
   "source": [
    "for col in df.columns[1:]:\n",
    "    sns.displot(df[col])"
   ]
  },
  {
   "cell_type": "markdown",
   "id": "310ac2f3",
   "metadata": {},
   "source": [
    "Does gender affect on income or other variables?\n",
    "\n",
    "It seems gender does'nt significant affect on other variables but noticable."
   ]
  },
  {
   "cell_type": "code",
   "execution_count": 6,
   "id": "269e28ef",
   "metadata": {},
   "outputs": [
    {
     "data": {
      "image/png": "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",
      "text/plain": [
       "<Figure size 640x480 with 1 Axes>"
      ]
     },
     "metadata": {},
     "output_type": "display_data"
    },
    {
     "data": {
      "image/png": "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",
      "text/plain": [
       "<Figure size 640x480 with 1 Axes>"
      ]
     },
     "metadata": {},
     "output_type": "display_data"
    },
    {
     "data": {
      "image/png": "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",
      "text/plain": [
       "<Figure size 640x480 with 1 Axes>"
      ]
     },
     "metadata": {},
     "output_type": "display_data"
    }
   ],
   "source": [
    "df.groupby('Gender').mean()\n",
    "male_df = df[df['Gender']=='Male']\n",
    "female_df = df[df['Gender']=='Female']\n",
    "for col in ['Age', 'Annual Income (k$)', 'Spending Score (1-100)']:\n",
    "    sns.histplot(female_df[col], color='orange')\n",
    "    sns.histplot(male_df[col], color='blue', alpha=.4 )\n",
    "    plt.show()"
   ]
  },
  {
   "cell_type": "markdown",
   "id": "29eb745d",
   "metadata": {},
   "source": [
    "What about Age?Does it affect on other varibles?\n",
    "\n",
    "Age does have any effect on income amount and slightly affect on spending score(correlation of age and spending score is -0.3)"
   ]
  },
  {
   "cell_type": "code",
   "execution_count": 7,
   "id": "ef241f69",
   "metadata": {},
   "outputs": [
    {
     "data": {
      "image/png": "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",
      "text/plain": [
       "<Figure size 640x480 with 1 Axes>"
      ]
     },
     "metadata": {},
     "output_type": "display_data"
    },
    {
     "data": {
      "text/plain": [
       "<Axes: xlabel='Age', ylabel='Spending Score (1-100)'>"
      ]
     },
     "execution_count": 7,
     "metadata": {},
     "output_type": "execute_result"
    },
    {
     "data": {
      "image/png": "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",
      "text/plain": [
       "<Figure size 640x480 with 1 Axes>"
      ]
     },
     "metadata": {},
     "output_type": "display_data"
    }
   ],
   "source": [
    "sns.scatterplot(x=df['Age'], y=df['Annual Income (k$)'])\n",
    "sns.regplot(x=df['Age'], y=df['Annual Income (k$)'], scatter=False, color='red')\n",
    "plt.show()\n",
    "sns.scatterplot(x=df['Age'], y=df['Spending Score (1-100)'])\n",
    "sns.regplot(x=df['Age'], y=df['Spending Score (1-100)'], scatter=False, color='red')"
   ]
  },
  {
   "cell_type": "code",
   "execution_count": 8,
   "id": "7fd93fb8",
   "metadata": {},
   "outputs": [
    {
     "data": {
      "text/plain": [
       "array([[<Axes: title={'center': 'Age'}>,\n",
       "        <Axes: title={'center': 'Annual Income (k$)'}>],\n",
       "       [<Axes: title={'center': 'Spending Score (1-100)'}>, <Axes: >]],\n",
       "      dtype=object)"
      ]
     },
     "execution_count": 8,
     "metadata": {},
     "output_type": "execute_result"
    },
    {
     "data": {
      "image/png": "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",
      "text/plain": [
       "<Figure size 640x480 with 4 Axes>"
      ]
     },
     "metadata": {},
     "output_type": "display_data"
    }
   ],
   "source": [
    "df.iloc[: ,[2,3,4]].hist()"
   ]
  },
  {
   "cell_type": "markdown",
   "id": "a89d0a26",
   "metadata": {},
   "source": [
    "<h2> Preprocessing </h2>"
   ]
  },
  {
   "cell_type": "code",
   "execution_count": 15,
   "id": "ea8fb842",
   "metadata": {},
   "outputs": [],
   "source": [
    "class Preprocessor:\n",
    "    def __init__(self, df):\n",
    "        self.df = df.copy()\n",
    "\n",
    "    def handle_missing_values(self):\n",
    "        self.df.fillna(0, inplace=True)\n",
    "\n",
    "    def drop_outlier(self):\n",
    "        numerical_columns = self.df.select_dtypes(include=[np.number]).columns\n",
    "        for col in numerical_columns:\n",
    "            values = self.df[col]\n",
    "            q25, q75 = np.percentile(values, [25, 75])\n",
    "            IQR = (q75 - q25) * 1.5\n",
    "            self.df = self.df[~((values > q75 + IQR) | (values < q25 - IQR))]\n",
    "\n",
    "    def income_transformer(self):\n",
    "        self.df['Log Income'] =  np.log(self.df['Annual Income (k$)']) # right skew\n",
    "\n",
    "    def standardization(self):\n",
    "        numerical_columns = self.df.select_dtypes(include=[np.number]).columns\n",
    "        scaler = StandardScaler()\n",
    "        self.df[numerical_columns] = scaler.fit_transform(self.df[numerical_columns])\n",
    "\n",
    "    def drop_columns(self):\n",
    "        self.df = self.df[['Log Income', 'Spending Score (1-100)', 'Age']]\n",
    "\n",
    "    def transform(self):\n",
    "        self.income_transformer()\n",
    "        self.drop_columns()\n",
    "        self.handle_missing_values()\n",
    "        # self.drop_outlier()\n",
    "        self.standardization()\n",
    "        return self.df\n"
   ]
  },
  {
   "cell_type": "code",
   "execution_count": 16,
   "id": "6856a63f",
   "metadata": {},
   "outputs": [],
   "source": [
    "preprocessor = Preprocessor(df)\n",
    "preprocessed_df = preprocessor.transform()"
   ]
  },
  {
   "cell_type": "markdown",
   "id": "8a43a20c",
   "metadata": {},
   "source": [
    "<h1> Model Learning</h1>"
   ]
  },
  {
   "cell_type": "markdown",
   "id": "162dfafb",
   "metadata": {},
   "source": [
    "Our data contain both numerical and categorical features"
   ]
  },
  {
   "cell_type": "code",
   "execution_count": 18,
   "id": "42869b5b",
   "metadata": {},
   "outputs": [
    {
     "ename": "NameError",
     "evalue": "name 'KPrototypes' is not defined",
     "output_type": "error",
     "traceback": [
      "\u001b[1;31m---------------------------------------------------------------------------\u001b[0m",
      "\u001b[1;31mNameError\u001b[0m                                 Traceback (most recent call last)",
      "Cell \u001b[1;32mIn[18], line 3\u001b[0m\n\u001b[0;32m      1\u001b[0m cost \u001b[38;5;241m=\u001b[39m []\n\u001b[0;32m      2\u001b[0m \u001b[38;5;28;01mfor\u001b[39;00m k \u001b[38;5;129;01min\u001b[39;00m \u001b[38;5;28mrange\u001b[39m(\u001b[38;5;241m2\u001b[39m, \u001b[38;5;241m8\u001b[39m):\n\u001b[1;32m----> 3\u001b[0m     kprototype_model \u001b[38;5;241m=\u001b[39m \u001b[43mKPrototypes\u001b[49m(n_clusters\u001b[38;5;241m=\u001b[39mk)\n\u001b[0;32m      4\u001b[0m     kprototype_predict \u001b[38;5;241m=\u001b[39m kprototype_model\u001b[38;5;241m.\u001b[39mfit_predict(preprocessed_df, categorical \u001b[38;5;241m=\u001b[39m [\u001b[38;5;241m2\u001b[39m])\n\u001b[0;32m      5\u001b[0m     cost\u001b[38;5;241m.\u001b[39mappend(kprototype_model\u001b[38;5;241m.\u001b[39mcost_)\n",
      "\u001b[1;31mNameError\u001b[0m: name 'KPrototypes' is not defined"
     ]
    }
   ],
   "source": [
    "cost = []\n",
    "for k in range(2, 8):\n",
    "    kprototype_model = KPrototypes(n_clusters=k)\n",
    "    kprototype_predict = kprototype_model.fit_predict(preprocessed_df, categorical = [2])\n",
    "    cost.append(kprototype_model.cost_)\n",
    "\n",
    "plt.plot(np.arange(2,8), cost, '-')\n"
   ]
  },
  {
   "cell_type": "code",
   "execution_count": null,
   "id": "4ee3d1a8",
   "metadata": {},
   "outputs": [],
   "source": [
    "kprototype_model = KPrototypes(n_clusters=5)\n",
    "kprototype_predict = kprototype_model.fit_predict(preprocessed_df, categorical = [2])\n",
    "kprototype_model.cost_"
   ]
  }
 ],
 "metadata": {
  "kernelspec": {
   "display_name": "Python 3",
   "language": "python",
   "name": "python3"
  },
  "language_info": {
   "codemirror_mode": {
    "name": "ipython",
    "version": 3
   },
   "file_extension": ".py",
   "mimetype": "text/x-python",
   "name": "python",
   "nbconvert_exporter": "python",
   "pygments_lexer": "ipython3",
   "version": "3.9.12"
  }
 },
 "nbformat": 4,
 "nbformat_minor": 5
}
