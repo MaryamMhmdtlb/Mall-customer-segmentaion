{
 "cells": [
  {
   "cell_type": "code",
   "execution_count": null,
   "id": "b00e7925",
   "metadata": {
    "vscode": {
     "languageId": "plaintext"
    }
   },
   "outputs": [],
   "source": [
    "import matplotlib.pyplot as plt\n",
    "import seaborn as sns"
   ]
  },
  {
   "cell_type": "code",
   "execution_count": null,
   "id": "21aa4b9b",
   "metadata": {
    "vscode": {
     "languageId": "plaintext"
    }
   },
   "outputs": [],
   "source": [
    "for col in df.columns[1:]:\n",
    "    sns.displot(df[col])"
   ]
  },
  {
   "cell_type": "markdown",
   "id": "e0c900b3",
   "metadata": {},
   "source": [
    "Does gender affect on income or other variables?\n",
    "\n",
    "It seems gender does'nt significant affect on other variables but noticable."
   ]
  },
  {
   "cell_type": "code",
   "execution_count": null,
   "id": "891f70f3",
   "metadata": {
    "vscode": {
     "languageId": "plaintext"
    }
   },
   "outputs": [],
   "source": [
    "df.groupby('Gender').mean()\n",
    "male_df = df[df['Gender']=='Male']\n",
    "female_df = df[df['Gender']=='Female']\n",
    "for col in ['Age', 'Annual Income (k$)', 'Spending Score (1-100)']:\n",
    "    sns.histplot(female_df[col], color='orange')\n",
    "    sns.histplot(male_df[col], color='blue', alpha=.4 )\n",
    "    plt.show()"
   ]
  },
  {
   "cell_type": "markdown",
   "id": "f508e2ce",
   "metadata": {},
   "source": [
    "What about Age?Does it affect on other varibles?\n",
    "\n",
    "Age does have any effect on income amount and slightly affect on spending score(correlation of age and spending score is -0.3)"
   ]
  },
  {
   "cell_type": "code",
   "execution_count": null,
   "id": "a88ba931",
   "metadata": {
    "vscode": {
     "languageId": "plaintext"
    }
   },
   "outputs": [],
   "source": [
    "sns.scatterplot(x=df['Age'], y=df['Annual Income (k$)'])\n",
    "sns.regplot(x=df['Age'], y=df['Annual Income (k$)'], scatter=False, color='red')\n",
    "plt.show()\n",
    "sns.scatterplot(x=df['Age'], y=df['Spending Score (1-100)'])\n",
    "sns.regplot(x=df['Age'], y=df['Spending Score (1-100)'], scatter=False, color='red')"
   ]
  },
  {
   "cell_type": "code",
   "execution_count": null,
   "id": "f75c1beb",
   "metadata": {
    "vscode": {
     "languageId": "plaintext"
    }
   },
   "outputs": [],
   "source": [
    "df.iloc[: ,[2,3,4]].hist()"
   ]
  }
 ],
 "metadata": {
  "language_info": {
   "name": "python"
  }
 },
 "nbformat": 4,
 "nbformat_minor": 5
}
