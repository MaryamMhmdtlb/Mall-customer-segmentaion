{
 "cells": [
  {
   "cell_type": "code",
   "execution_count": 1,
   "id": "3a72fee7",
   "metadata": {},
   "outputs": [],
   "source": [
    "import numpy as np\n",
    "import pandas as pd\n",
    "from sklearn.preprocessing import StandardScaler"
   ]
  },
  {
   "cell_type": "code",
   "execution_count": null,
   "id": "e46619ba",
   "metadata": {},
   "outputs": [],
   "source": [
    "class Preprocessor:\n",
    "    def __init__(self, df):\n",
    "        self.df = df.copy()\n",
    "\n",
    "    def handle_missing_values(self):\n",
    "        self.df.fillna(0, inplace=True)\n",
    "\n",
    "    def drop_outlier(self):\n",
    "        numerical_columns = self.df.select_dtypes(include=[np.number]).columns\n",
    "        for col in numerical_columns:\n",
    "            values = self.df[col]\n",
    "            q25, q75 = np.percentile(values, [25, 75])\n",
    "            IQR = (q75 - q25) * 1.5\n",
    "            self.df = self.df[~((values > q75 + IQR) | (values < q25 - IQR))]\n",
    "    # Annual Income is skewed right so log transformation helps improve model performance\n",
    "    def income_transformer(self):\n",
    "        self.df['Log Income'] =  np.log(self.df['Annual Income (k$)'])\n",
    "\n",
    "    def standardization(self):\n",
    "        numerical_columns = self.df.select_dtypes(include=[np.number]).columns\n",
    "        scaler = StandardScaler()\n",
    "        self.df[numerical_columns] = scaler.fit_transform(self.df[numerical_columns])\n",
    "\n",
    "    def drop_columns(self):\n",
    "        if self.keep_categorical:\n",
    "            self.df = self.df[['Log Income', 'Spending Score (1-100)', 'Gender']]\n",
    "        else:\n",
    "            self.df = self.df[['Log Income', 'Spending Score (1-100)']]\n",
    "\n",
    "    def transform(self, keep_categorical=False):\n",
    "        self.keep_categorical = keep_categorical\n",
    "        self.income_transformer()\n",
    "        self.drop_columns()\n",
    "        self.handle_missing_values()\n",
    "        # self.drop_outlier()\n",
    "        self.standardization()\n",
    "        return self.df\n"
   ]
  }
 ],
 "metadata": {
  "kernelspec": {
   "display_name": "Python 3",
   "language": "python",
   "name": "python3"
  },
  "language_info": {
   "codemirror_mode": {
    "name": "ipython",
    "version": 3
   },
   "file_extension": ".py",
   "mimetype": "text/x-python",
   "name": "python",
   "nbconvert_exporter": "python",
   "pygments_lexer": "ipython3",
   "version": "3.9.12"
  }
 },
 "nbformat": 4,
 "nbformat_minor": 5
}
